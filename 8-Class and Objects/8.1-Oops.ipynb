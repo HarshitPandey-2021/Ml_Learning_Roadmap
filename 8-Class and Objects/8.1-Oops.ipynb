{
 "cells": [
  {
   "cell_type": "markdown",
   "id": "50a93aeb",
   "metadata": {},
   "source": [
    "####  Classes and Objects\n",
    "Object-Oriented Programming (OOP) is a programming paradigm that uses \"objects\" to design applications and computer programs. OOP allows for modeling real-world scenarios using classes and objects. This lesson covers the basics of creating classes and objects, including instance variables and methods."
   ]
  },
  {
   "cell_type": "code",
   "execution_count": null,
   "id": "e9d8d7a5",
   "metadata": {},
   "outputs": [
    {
     "name": "stdout",
     "output_type": "stream",
     "text": [
      "<class '__main__.Car'>\n"
     ]
    }
   ],
   "source": [
    "## A class is a blue print for creating objects, attributes and methods\n",
    "class Car:\n",
    "    pass\n",
    "\n",
    "audi=Car()\n",
    "bmw=Car()\n",
    "print(type(audi))\n"
   ]
  },
  {
   "cell_type": "code",
   "execution_count": 4,
   "id": "f10bd078",
   "metadata": {},
   "outputs": [
    {
     "name": "stdout",
     "output_type": "stream",
     "text": [
      "<__main__.Car object at 0x000001990F1A3BF0>\n",
      "<__main__.Car object at 0x000001990EB88980>\n"
     ]
    }
   ],
   "source": [
    "print(audi)\n",
    "print(bmw)"
   ]
  },
  {
   "cell_type": "code",
   "execution_count": 10,
   "id": "70c4803f",
   "metadata": {},
   "outputs": [
    {
     "data": {
      "text/plain": [
       "['__annotations__',\n",
       " '__class__',\n",
       " '__delattr__',\n",
       " '__dict__',\n",
       " '__dir__',\n",
       " '__doc__',\n",
       " '__eq__',\n",
       " '__format__',\n",
       " '__ge__',\n",
       " '__getattribute__',\n",
       " '__getstate__',\n",
       " '__gt__',\n",
       " '__hash__',\n",
       " '__init__',\n",
       " '__init_subclass__',\n",
       " '__le__',\n",
       " '__lt__',\n",
       " '__module__',\n",
       " '__ne__',\n",
       " '__new__',\n",
       " '__reduce__',\n",
       " '__reduce_ex__',\n",
       " '__repr__',\n",
       " '__setattr__',\n",
       " '__sizeof__',\n",
       " '__str__',\n",
       " '__subclasshook__',\n",
       " '__weakref__',\n",
       " 'doors']"
      ]
     },
     "execution_count": 10,
     "metadata": {},
     "output_type": "execute_result"
    }
   ],
   "source": [
    "# audi.windows=4\n",
    "# print(audi.windows)\n",
    "tata=Car()\n",
    "tata.doors=4\n",
    "dir(tata)"
   ]
  },
  {
   "cell_type": "code",
   "execution_count": 13,
   "metadata": {},
   "outputs": [
    {
     "name": "stdout",
     "output_type": "stream",
     "text": [
      "<__main__.Dog object at 0x000001990E57AED0>\n",
      "Buddy\n",
      "2\n"
     ]
    }
   ],
   "source": [
    "## Instance vairables and methods\n",
    "\n",
    "class Dog:\n",
    "    ##constructor\n",
    "    def __init__(self,name,age):\n",
    "        self.name=name\n",
    "        self.age=age\n",
    "    \n",
    "##object creation\n",
    "dog1=Dog(\"Buddy\",2)\n",
    "print(dog1)  \n",
    "print(dog1.name)\n",
    "print(dog1.age)\n"
   ]
  },
  {
   "cell_type": "code",
   "execution_count": 14,
   "metadata": {},
   "outputs": [
    {
     "name": "stdout",
     "output_type": "stream",
     "text": [
      "Lucy\n",
      "4\n"
     ]
    }
   ],
   "source": [
    "dog2=Dog('Lucy',4)\n",
    "print(dog2.name)\n",
    "print(dog2.age)"
   ]
  },
  {
   "cell_type": "code",
   "execution_count": 17,
   "metadata": {},
   "outputs": [
    {
     "name": "stdout",
     "output_type": "stream",
     "text": [
      "buddy says woof!!\n",
      "Lucy says woof!!\n"
     ]
    }
   ],
   "source": [
    "## Define a class with instance methods\n",
    "class Dog:\n",
    "    def __init__(self,name,age):\n",
    "        self.name=name\n",
    "        self.age=age\n",
    "        \n",
    "    def bark(self):\n",
    "        print(f\"{self.name} says woof!!\")\n",
    "\n",
    "dog1=Dog('buddy',3)\n",
    "dog1.bark()\n",
    "dog2=Dog('Lucy',1)\n",
    "dog2.bark()"
   ]
  },
  {
   "cell_type": "code",
   "execution_count": 18,
   "metadata": {},
   "outputs": [
    {
     "name": "stdout",
     "output_type": "stream",
     "text": [
      "5000\n"
     ]
    }
   ],
   "source": [
    "## Modeling a Bank Account\n",
    "\n",
    "##Define a class for bank account\n",
    "\n",
    "class BankAccount:\n",
    "    def __init__(self,owner,balance=0):\n",
    "        self.owner=owner\n",
    "        self.balance=balance\n",
    "    def deposit(self,amount):\n",
    "        self.balance+=amount\n",
    "        print(f\"{amount} is deposited. New balance is {self.balance}\")\n",
    "        \n",
    "    def withdraw(self,amount):\n",
    "        if amount>self.balance:\n",
    "            print(\"Insufficient Funds\")\n",
    "        else:\n",
    "            self.balance-=amount\n",
    "            print(f\"{amount} is withdrawn. New balance is {self.balance}\")\n",
    "    def get_balance(self):\n",
    "        return self.balance\n",
    "    \n",
    "## Creation of object:\n",
    "\n",
    "account=BankAccount(\"Harshit\",5000)\n",
    "print(account.balance)    \n",
    "    "
   ]
  },
  {
   "cell_type": "code",
   "execution_count": 19,
   "metadata": {},
   "outputs": [
    {
     "name": "stdout",
     "output_type": "stream",
     "text": [
      "100 is deposited. New balance is 5100\n"
     ]
    }
   ],
   "source": [
    "##Calling instance methods\n",
    "account.deposit(100)"
   ]
  },
  {
   "cell_type": "code",
   "execution_count": 20,
   "metadata": {},
   "outputs": [
    {
     "name": "stdout",
     "output_type": "stream",
     "text": [
      "1000 is withdrawn. New balance is 4100\n"
     ]
    }
   ],
   "source": [
    "account.withdraw(1000)"
   ]
  },
  {
   "cell_type": "code",
   "execution_count": 22,
   "metadata": {},
   "outputs": [
    {
     "name": "stdout",
     "output_type": "stream",
     "text": [
      "4100\n"
     ]
    }
   ],
   "source": [
    "print(account.get_balance())"
   ]
  },
  {
   "cell_type": "markdown",
   "id": "094c2296",
   "metadata": {},
   "source": [
    "#### Conclusion\n",
    "Object-Oriented Programming (OOP) allows you to model real-world scenarios using classes and objects. In this lesson, you learned how to create classes and objects, define instance variables and methods, and use them to perform various operations. Understanding these concepts is fundamental to writing effective and maintainable Python code."
   ]
  },
  {
   "cell_type": "code",
   "execution_count": null,
   "metadata": {},
   "outputs": [],
   "source": []
  },
  {
   "cell_type": "code",
   "execution_count": null,
   "id": "e0966004",
   "metadata": {},
   "outputs": [],
   "source": []
  }
 ],
 "metadata": {
  "kernelspec": {
   "display_name": "Python 3",
   "language": "python",
   "name": "python3"
  },
  "language_info": {
   "codemirror_mode": {
    "name": "ipython",
    "version": 3
   },
   "file_extension": ".py",
   "mimetype": "text/x-python",
   "name": "python",
   "nbconvert_exporter": "python",
   "pygments_lexer": "ipython3",
   "version": "3.12.0"
  }
 },
 "nbformat": 4,
 "nbformat_minor": 5
}
