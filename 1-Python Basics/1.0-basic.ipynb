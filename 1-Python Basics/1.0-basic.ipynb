{
 "cells": [
  {
   "cell_type": "markdown",
   "id": "4347c87c",
   "metadata": {},
   "source": [
    "### SUMMARY OF THIS NOTE BOOK\n",
    "###### Single and multiline comments\n",
    "###### Defination of Syntax and Sementics\n",
    "###### Basic syntax rules in python\n",
    "###### Understanding semantics in python\n",
    "###### Common syntax errors and how to avoid them\n",
    "###### Practical Examples"
   ]
  },
  {
   "cell_type": "markdown",
   "id": "08b97d49",
   "metadata": {},
   "source": [
    "#### SYNTAX: Correct arrangement of words and symbols in a code\n",
    "#### SEMENTICS: What code is supposed to do when it runs"
   ]
  },
  {
   "cell_type": "code",
   "execution_count": 1,
   "id": "c22b302c",
   "metadata": {},
   "outputs": [
    {
     "name": "stdout",
     "output_type": "stream",
     "text": [
      "op\n",
      "vincenzo\n"
     ]
    }
   ],
   "source": [
    "### Basic Syntax Rules in Python\n",
    "# Python is a case-sensitive programming language, which means that it distinguishes between uppercase and lowercase letters in identifiers.\n",
    "\n",
    "name=\"op\"\n",
    "Namme=\"vincenzo\"\n",
    "print(name)\n",
    "print(Namme)"
   ]
  },
  {
   "cell_type": "code",
   "execution_count": 2,
   "id": "91891ae6",
   "metadata": {},
   "outputs": [
    {
     "name": "stdout",
     "output_type": "stream",
     "text": [
      "21\n",
      "21\n"
     ]
    }
   ],
   "source": [
    "#Indentation is crucial in Python, as it defines the structure and flow of the code. Each block of code must be indented consistently, typically using 4(four) spaces or a tab.\n",
    "\n",
    "age=21\n",
    "if age>20:\n",
    "    print(age)\n",
    "\n",
    "print(age)"
   ]
  },
  {
   "cell_type": "code",
   "execution_count": 3,
   "id": "58c823b0",
   "metadata": {},
   "outputs": [
    {
     "name": "stdout",
     "output_type": "stream",
     "text": [
      "Hello World!!\n"
     ]
    }
   ],
   "source": [
    "# This is single line comment\n",
    "print(\"Hello World!!\")"
   ]
  },
  {
   "cell_type": "code",
   "execution_count": null,
   "id": "d3550dbd",
   "metadata": {},
   "outputs": [
    {
     "name": "stdout",
     "output_type": "stream",
     "text": [
      "21\n"
     ]
    }
   ],
   "source": [
    "#Line Continuation\n",
    "#Use a backslash(\\) to continue statement to next line\n",
    "total=1+2+3+4+5+6+\\\n",
    "4+5+6\n",
    "print(total)"
   ]
  },
  {
   "cell_type": "code",
   "execution_count": 7,
   "id": "334a2f78",
   "metadata": {},
   "outputs": [
    {
     "name": "stdout",
     "output_type": "stream",
     "text": [
      "15\n"
     ]
    }
   ],
   "source": [
    "#Multiple statements on a single line\n",
    "x=5;y=10;z=x+y\n",
    "print(z)"
   ]
  },
  {
   "cell_type": "code",
   "execution_count": null,
   "metadata": {},
   "outputs": [],
   "source": [
    "##Understanding Semantics in python\n",
    "#Variable assignment\n",
    "age=20 #age is an integer\n",
    "name=\"Vincenzo\" #name is a string"
   ]
  },
  {
   "cell_type": "code",
   "execution_count": null,
   "id": "816a57c7",
   "metadata": {},
   "outputs": [
    {
     "name": "stdout",
     "output_type": "stream",
     "text": [
      "<class 'int'>\n",
      "<class 'str'>\n"
     ]
    }
   ],
   "source": [
    "#Type inference\n",
    "var=10\n",
    "print(type(var))\n",
    "var=\"op\"\n",
    "print(type(var))"
   ]
  },
  {
   "cell_type": "code",
   "execution_count": 10,
   "id": "4d56844e",
   "metadata": {},
   "outputs": [
    {
     "data": {
      "text/plain": [
       "str"
      ]
     },
     "execution_count": 10,
     "metadata": {},
     "output_type": "execute_result"
    }
   ],
   "source": [
    "type(name)"
   ]
  },
  {
   "cell_type": "code",
   "execution_count": null,
   "id": "a470e461",
   "metadata": {},
   "outputs": [],
   "source": []
  }
 ],
 "metadata": {
  "kernelspec": {
   "display_name": "Python 3",
   "language": "python",
   "name": "python3"
  },
  "language_info": {
   "codemirror_mode": {
    "name": "ipython",
    "version": 3
   },
   "file_extension": ".py",
   "mimetype": "text/x-python",
   "name": "python",
   "nbconvert_exporter": "python",
   "pygments_lexer": "ipython3",
   "version": "3.12.0"
  }
 },
 "nbformat": 4,
 "nbformat_minor": 5
}
