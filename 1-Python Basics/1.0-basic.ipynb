{
 "cells": [
  {
   "cell_type": "markdown",
   "id": "4347c87c",
   "metadata": {},
   "source": [
    "###### Single and multiline comments\n",
    "###### Defination of Syntax and Sementics\n",
    "###### Basic syntax rules in python\n",
    "###### Understanding semantics in python\n",
    "###### Common syntax errors and how to avoid them\n",
    "###### Practical Examples"
   ]
  },
  {
   "cell_type": "code",
   "execution_count": null,
   "id": "82d13595",
   "metadata": {},
   "outputs": [],
   "source": []
  },
  {
   "cell_type": "markdown",
   "id": "08b97d49",
   "metadata": {},
   "source": [
    "#### SYNTAX: Correct arrangement of words and symbols in a code\n",
    "#### SEMENTICS: What code is supposed to do when it runs"
   ]
  },
  {
   "cell_type": "code",
   "execution_count": 1,
   "id": "c22b302c",
   "metadata": {},
   "outputs": [
    {
     "name": "stdout",
     "output_type": "stream",
     "text": [
      "op\n",
      "vincenzo\n"
     ]
    }
   ],
   "source": [
    "### Basic Syntax Rules in Python\n",
    "# Python is a case-sensitive programming language, which means that it distinguishes between uppercase and lowercase letters in identifiers.\n",
    "\n",
    "name=\"op\"\n",
    "Namme=\"vincenzo\"\n",
    "print(name)\n",
    "print(Namme)"
   ]
  },
  {
   "cell_type": "code",
   "execution_count": null,
   "id": "91891ae6",
   "metadata": {},
   "outputs": [],
   "source": [
    "#Indentation is crucial in Python, as it defines the structure and flow of the code. Each block of code must be indented consistently, typically using four spaces or a tab.\n"
   ]
  }
 ],
 "metadata": {
  "kernelspec": {
   "display_name": "Python 3",
   "language": "python",
   "name": "python3"
  },
  "language_info": {
   "codemirror_mode": {
    "name": "ipython",
    "version": 3
   },
   "file_extension": ".py",
   "mimetype": "text/x-python",
   "name": "python",
   "nbconvert_exporter": "python",
   "pygments_lexer": "ipython3",
   "version": "3.12.0"
  }
 },
 "nbformat": 4,
 "nbformat_minor": 5
}
